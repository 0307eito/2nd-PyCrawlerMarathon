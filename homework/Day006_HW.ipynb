{
 "cells": [
  {
   "cell_type": "markdown",
   "metadata": {},
   "source": [
    "# API 資料串接 - 以 知乎 API 實作範例\n",
    "\n",
    "\n",
    "\n",
    "* 了解知乎 API 使用方式與回傳內容\n",
    "* 撰寫程式存取 API 且添加標頭\n",
    "\n",
    "\n"
   ]
  },
  {
   "cell_type": "markdown",
   "metadata": {},
   "source": [
    "## 作業目標\n",
    "\n",
    "* 根據範例提供的 API ，完成以下問題：\n",
    "\n",
    "    1. 取出知乎問題發問時間\n",
    "    2. 取出第一筆與最後一筆回答的時間\n"
   ]
  },
  {
   "cell_type": "markdown",
   "metadata": {},
   "source": [
    "### 1. 取出知乎問題發問時間"
   ]
  },
  {
   "cell_type": "code",
   "execution_count": 24,
   "metadata": {},
   "outputs": [
    {
     "name": "stdout",
     "output_type": "stream",
     "text": [
      "發問時間: 1486390229\n"
     ]
    }
   ],
   "source": [
    "# 1. 取出知乎問題發問時間\n",
    "import json\n",
    "import requests\n",
    "headers = {'user-agent': 'my-app/0.0.1'}\n",
    "r = requests.get('https://www.zhihu.com/api/v4/questions/55493026/answers',headers=headers)\n",
    "response = r.text\n",
    "\n",
    "data = json.loads(response)\n",
    "print('發問時間:',data['data'][0]['question']['created'])\n"
   ]
  },
  {
   "cell_type": "markdown",
   "metadata": {},
   "source": [
    "### 2. 取出第一筆與最後一筆回答的時間"
   ]
  },
  {
   "cell_type": "code",
   "execution_count": 3,
   "metadata": {},
   "outputs": [
    {
     "data": {
      "text/plain": [
       "'\\nYour Code\\n'"
      ]
     },
     "execution_count": 3,
     "metadata": {},
     "output_type": "execute_result"
    }
   ],
   "source": [
    "# 2. 取出第一筆與最後一筆回答的時間\n",
    "\n",
    "'''\n",
    "Your Code\n",
    "'''"
   ]
  },
  {
   "cell_type": "code",
   "execution_count": 31,
   "metadata": {
    "scrolled": true
   },
   "outputs": [
    {
     "data": {
      "text/plain": [
       "{'id': 683070334,\n",
       " 'type': 'answer',\n",
       " 'answer_type': 'normal',\n",
       " 'question': {'type': 'question',\n",
       "  'id': 55493026,\n",
       "  'title': '你们都是怎么学 Python 的？',\n",
       "  'question_type': 'normal',\n",
       "  'created': 1486390229,\n",
       "  'updated_time': 1582533957,\n",
       "  'url': 'https://www.zhihu.com/api/v4/questions/55493026',\n",
       "  'relationship': {}},\n",
       " 'author': {'id': '36f69162230003d316d0b8a6d8da20ba',\n",
       "  'url_token': 'liang-zi-wei-48',\n",
       "  'name': '量子位',\n",
       "  'avatar_url': 'https://pic3.zhimg.com/v2-ca6e7ffc10a0d10edbae635cee82d007_l.jpg?source=1940ef5c',\n",
       "  'avatar_url_template': 'https://pic1.zhimg.com/v2-ca6e7ffc10a0d10edbae635cee82d007.jpg?source=1940ef5c',\n",
       "  'is_org': True,\n",
       "  'type': 'people',\n",
       "  'url': 'https://www.zhihu.com/api/v4/people/36f69162230003d316d0b8a6d8da20ba',\n",
       "  'user_type': 'organization',\n",
       "  'headline': '有趣的AI&amp;前沿科技→_→ 公众号：QbitAI',\n",
       "  'badge': [{'type': 'identity', 'description': '已认证的官方帐号', 'topics': []},\n",
       "   {'type': 'best_answerer', 'description': '优秀回答者', 'topics': []}],\n",
       "  'badge_v2': {'title': '数学等 5 个话题下的优秀回答者',\n",
       "   'merged_badges': [{'type': 'best',\n",
       "     'detail_type': 'best',\n",
       "     'title': '优秀认证',\n",
       "     'description': '数学等 5 个话题下的优秀回答者',\n",
       "     'url': 'https://www.zhihu.com/topic/20054793',\n",
       "     'sources': [{'id': '19554091',\n",
       "       'token': '19554091',\n",
       "       'type': 'topic',\n",
       "       'url': 'https://www.zhihu.com/topic/19554091',\n",
       "       'name': '数学',\n",
       "       'avatar_path': 'v2-351d57389cf50b002a20606caac645cf',\n",
       "       'avatar_url': 'https://pic2.zhimg.com/v2-351d57389cf50b002a20606caac645cf_hd.jpg',\n",
       "       'description': '',\n",
       "       'priority': 0},\n",
       "      {'id': '19556664',\n",
       "       'token': '19556664',\n",
       "       'type': 'topic',\n",
       "       'url': 'https://www.zhihu.com/topic/19556664',\n",
       "       'name': '科技',\n",
       "       'avatar_path': '6d7dc1d82127396331a952e93fda484e',\n",
       "       'avatar_url': 'https://pic2.zhimg.com/6d7dc1d82127396331a952e93fda484e_hd.jpg',\n",
       "       'description': '',\n",
       "       'priority': 0},\n",
       "      {'id': '19556895',\n",
       "       'token': '19556895',\n",
       "       'type': 'topic',\n",
       "       'url': 'https://www.zhihu.com/topic/19556895',\n",
       "       'name': '科研',\n",
       "       'avatar_path': 'v2-f94b3093434c09b4501b056d142025e0',\n",
       "       'avatar_url': 'https://pic3.zhimg.com/v2-f94b3093434c09b4501b056d142025e0_hd.jpg',\n",
       "       'description': '',\n",
       "       'priority': 0},\n",
       "      {'id': '19635352',\n",
       "       'token': '19635352',\n",
       "       'type': 'topic',\n",
       "       'url': 'https://www.zhihu.com/topic/19635352',\n",
       "       'name': '自动驾驶',\n",
       "       'avatar_path': 'v2-a4deab1b73004d7c3fda759c7942c53f',\n",
       "       'avatar_url': 'https://pic2.zhimg.com/v2-a4deab1b73004d7c3fda759c7942c53f_hd.jpg',\n",
       "       'description': '',\n",
       "       'priority': 0},\n",
       "      {'id': '19551275',\n",
       "       'token': '19551275',\n",
       "       'type': 'topic',\n",
       "       'url': 'https://www.zhihu.com/topic/19551275',\n",
       "       'name': '人工智能',\n",
       "       'avatar_path': 'v2-c41d10d22173d515740c43c70f885705',\n",
       "       'avatar_url': 'https://pic1.zhimg.com/v2-c41d10d22173d515740c43c70f885705_hd.jpg',\n",
       "       'description': '',\n",
       "       'priority': 0}],\n",
       "     'icon': '',\n",
       "     'night_icon': ''},\n",
       "    {'type': 'identity',\n",
       "     'detail_type': 'identity',\n",
       "     'title': '认证',\n",
       "     'description': '已认证的官方帐号',\n",
       "     'url': 'https://www.zhihu.com/account/verification/intro',\n",
       "     'sources': [],\n",
       "     'icon': '',\n",
       "     'night_icon': ''}],\n",
       "   'detail_badges': [{'type': 'best',\n",
       "     'detail_type': 'best_answerer',\n",
       "     'title': '优秀回答者',\n",
       "     'description': '数学等 5 个话题下的优秀回答者',\n",
       "     'url': 'https://www.zhihu.com/topic/20054793',\n",
       "     'sources': [{'id': '19554091',\n",
       "       'token': '19554091',\n",
       "       'type': 'topic',\n",
       "       'url': 'https://www.zhihu.com/topic/19554091',\n",
       "       'name': '数学',\n",
       "       'avatar_path': 'v2-351d57389cf50b002a20606caac645cf',\n",
       "       'avatar_url': 'https://pic2.zhimg.com/v2-351d57389cf50b002a20606caac645cf_hd.jpg',\n",
       "       'description': '',\n",
       "       'priority': 0},\n",
       "      {'id': '19556664',\n",
       "       'token': '19556664',\n",
       "       'type': 'topic',\n",
       "       'url': 'https://www.zhihu.com/topic/19556664',\n",
       "       'name': '科技',\n",
       "       'avatar_path': '6d7dc1d82127396331a952e93fda484e',\n",
       "       'avatar_url': 'https://pic2.zhimg.com/6d7dc1d82127396331a952e93fda484e_hd.jpg',\n",
       "       'description': '',\n",
       "       'priority': 0},\n",
       "      {'id': '19556895',\n",
       "       'token': '19556895',\n",
       "       'type': 'topic',\n",
       "       'url': 'https://www.zhihu.com/topic/19556895',\n",
       "       'name': '科研',\n",
       "       'avatar_path': 'v2-f94b3093434c09b4501b056d142025e0',\n",
       "       'avatar_url': 'https://pic3.zhimg.com/v2-f94b3093434c09b4501b056d142025e0_hd.jpg',\n",
       "       'description': '',\n",
       "       'priority': 0},\n",
       "      {'id': '19635352',\n",
       "       'token': '19635352',\n",
       "       'type': 'topic',\n",
       "       'url': 'https://www.zhihu.com/topic/19635352',\n",
       "       'name': '自动驾驶',\n",
       "       'avatar_path': 'v2-a4deab1b73004d7c3fda759c7942c53f',\n",
       "       'avatar_url': 'https://pic2.zhimg.com/v2-a4deab1b73004d7c3fda759c7942c53f_hd.jpg',\n",
       "       'description': '',\n",
       "       'priority': 0},\n",
       "      {'id': '19551275',\n",
       "       'token': '19551275',\n",
       "       'type': 'topic',\n",
       "       'url': 'https://www.zhihu.com/topic/19551275',\n",
       "       'name': '人工智能',\n",
       "       'avatar_path': 'v2-c41d10d22173d515740c43c70f885705',\n",
       "       'avatar_url': 'https://pic1.zhimg.com/v2-c41d10d22173d515740c43c70f885705_hd.jpg',\n",
       "       'description': '',\n",
       "       'priority': 0}],\n",
       "     'icon': 'https://pic1.zhimg.com/v2-bf0eec3c31c8e866c468f60eb296696c_l.png',\n",
       "     'night_icon': 'https://pic2.zhimg.com/v2-c724649168d8f9d36d7c3d13140a2594_l.png'},\n",
       "    {'type': 'identity',\n",
       "     'detail_type': 'identity_org',\n",
       "     'title': '已认证的官方帐号',\n",
       "     'description': '已认证的官方帐号',\n",
       "     'url': 'https://www.zhihu.com/account/verification/intro',\n",
       "     'sources': [],\n",
       "     'icon': 'https://pic1.zhimg.com/v2-235258cecb8a0f184c4d38483cd6f6b6_l.png',\n",
       "     'night_icon': 'https://pic4.zhimg.com/v2-45e870b8f0982bcd7537ea4627afbd00_l.png'}],\n",
       "   'icon': 'https://pic2.zhimg.com/v2-7a1a13d7531f29551f79278e9391b8ee_l.png',\n",
       "   'night_icon': 'https://pic4.zhimg.com/v2-af71f641951fd5f8b4a7d305288693df_l.png'},\n",
       "  'gender': -1,\n",
       "  'is_advertiser': False,\n",
       "  'is_privacy': False},\n",
       " 'url': 'https://www.zhihu.com/api/v4/answers/683070334',\n",
       " 'is_collapsed': False,\n",
       " 'created_time': 1557824412,\n",
       " 'updated_time': 1557824412,\n",
       " 'extras': '',\n",
       " 'is_copyable': True,\n",
       " 'relationship': {'upvoted_followees': []},\n",
       " 'ad_answer': None}"
      ]
     },
     "execution_count": 31,
     "metadata": {},
     "output_type": "execute_result"
    }
   ],
   "source": [
    "data['data'][1]"
   ]
  },
  {
   "cell_type": "code",
   "execution_count": 34,
   "metadata": {},
   "outputs": [
    {
     "name": "stdout",
     "output_type": "stream",
     "text": [
      "第一筆回答時間: 1557824412\n"
     ]
    },
    {
     "ename": "IndexError",
     "evalue": "list index out of range",
     "output_type": "error",
     "traceback": [
      "\u001b[1;31m---------------------------------------------------------------------------\u001b[0m",
      "\u001b[1;31mIndexError\u001b[0m                                Traceback (most recent call last)",
      "\u001b[1;32m<ipython-input-34-03d8f5c4b44f>\u001b[0m in \u001b[0;36m<module>\u001b[1;34m\u001b[0m\n\u001b[0;32m      1\u001b[0m \u001b[0mprint\u001b[0m\u001b[1;33m(\u001b[0m\u001b[1;34m'第一筆回答時間:'\u001b[0m\u001b[1;33m,\u001b[0m\u001b[0mdata\u001b[0m\u001b[1;33m[\u001b[0m\u001b[1;34m'data'\u001b[0m\u001b[1;33m]\u001b[0m\u001b[1;33m[\u001b[0m\u001b[1;36m1\u001b[0m\u001b[1;33m]\u001b[0m\u001b[1;33m[\u001b[0m\u001b[1;34m'created_time'\u001b[0m\u001b[1;33m]\u001b[0m\u001b[1;33m)\u001b[0m\u001b[1;33m\u001b[0m\u001b[1;33m\u001b[0m\u001b[0m\n\u001b[1;32m----> 2\u001b[1;33m \u001b[0mprint\u001b[0m\u001b[1;33m(\u001b[0m\u001b[1;34m'最後一筆回答時間:'\u001b[0m\u001b[1;33m,\u001b[0m\u001b[0mdata\u001b[0m\u001b[1;33m[\u001b[0m\u001b[1;34m'data'\u001b[0m\u001b[1;33m]\u001b[0m\u001b[1;33m[\u001b[0m\u001b[0mlen\u001b[0m\u001b[1;33m(\u001b[0m\u001b[0mdata\u001b[0m\u001b[1;33m[\u001b[0m\u001b[1;34m'data'\u001b[0m\u001b[1;33m]\u001b[0m\u001b[1;33m)\u001b[0m\u001b[1;33m]\u001b[0m\u001b[1;33m[\u001b[0m\u001b[1;34m'created_time'\u001b[0m\u001b[1;33m]\u001b[0m\u001b[1;33m)\u001b[0m\u001b[1;33m\u001b[0m\u001b[1;33m\u001b[0m\u001b[0m\n\u001b[0m",
      "\u001b[1;31mIndexError\u001b[0m: list index out of range"
     ]
    }
   ],
   "source": [
    "print('第一筆回答時間:',data['data'][1]['created_time'])\n",
    "print('最後一筆回答時間:',data['data'][len(data['data'])]['created_time'])\n"
   ]
  },
  {
   "cell_type": "code",
   "execution_count": null,
   "metadata": {},
   "outputs": [],
   "source": []
  }
 ],
 "metadata": {
  "kernelspec": {
   "display_name": "Python 3",
   "language": "python",
   "name": "python3"
  },
  "language_info": {
   "codemirror_mode": {
    "name": "ipython",
    "version": 3
   },
   "file_extension": ".py",
   "mimetype": "text/x-python",
   "name": "python",
   "nbconvert_exporter": "python",
   "pygments_lexer": "ipython3",
   "version": "3.7.6"
  }
 },
 "nbformat": 4,
 "nbformat_minor": 2
}
